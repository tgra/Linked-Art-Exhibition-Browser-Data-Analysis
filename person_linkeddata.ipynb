{
 "cells": [
  {
   "cell_type": "code",
   "execution_count": 1,
   "metadata": {},
   "outputs": [],
   "source": [
    "%store -r summary_data_dir_activity\n",
    "%store -r activity_all_file\n",
    "\n",
    "\n",
    "%store -r summary_data_dir_person\n",
    "%store -r persons_all_file\n",
    "\n",
    "%store -r events_nonmoma\n",
    "\n",
    "%store -r json_suffix\n",
    "\n",
    "%store -r linked_data_filepath_group\n",
    "\n",
    "%store -r datavis_venue_exhibitions \n",
    "\n",
    "\n",
    "%store -r linked_data_filepath_activity\n",
    "%store -r linked_data_filepath_person"
   ]
  },
  {
   "cell_type": "code",
   "execution_count": 2,
   "metadata": {},
   "outputs": [],
   "source": [
    "try:\n",
    "    import json\n",
    "except:\n",
    "    %pip install json\n",
    "    import json\n",
    "\n",
    "from operator import itemgetter\n",
    "\n",
    "import os\n",
    "\n",
    "try:\n",
    "    import urllib\n",
    "except:\n",
    "    %pip install urllib\n",
    "    import urllib\n",
    "\n",
    "try:\n",
    "    import hashlib\n",
    "except:\n",
    "    %pip install hashlib\n",
    "    import hashlib"
   ]
  },
  {
   "attachments": {},
   "cell_type": "markdown",
   "metadata": {},
   "source": [
    "## add image URL for person from wikidata"
   ]
  },
  {
   "cell_type": "code",
   "execution_count": 3,
   "metadata": {},
   "outputs": [],
   "source": [
    "person_image_dict = {}\n",
    "\n",
    "\n",
    "# open summary file api/persons_all.json\n",
    "with open(os.path.join(summary_data_dir_person, persons_all_file), 'r') as json_file:\n",
    "    data = json.load(json_file)\n",
    "\n",
    "    #iterate through each person in persons_all.json\n",
    "    for person in data[\"persons\"]:\n",
    "\n",
    "        image_url = \"\"\n",
    "        # get id\n",
    "        person_id = person.get(\"id\")\n",
    "\n",
    "        external_ids = person.get(\"equivalent\")\n",
    "\n",
    "# http://vocab.getty.edu/ulan/500006860\n",
    "# http://www.wikidata.org/entity/Q19595180\",\n",
    "# http://viaf.org/viaf/95722748\"\n",
    "        \n",
    "        for external_id in external_ids:\n",
    "\n",
    "            if len(external_id.split(\"wikidata.org\")) > 1:\n",
    "                \n",
    "                qid = external_id.split(\"/\").pop()\n",
    "                url = \"https://www.wikidata.org/w/api.php?action=wbgetclaims&property=P18&format=json&entity=\" + qid\n",
    "\n",
    "\n",
    "                try:\n",
    "                    response = urllib.request.urlopen(url)\n",
    "                    data = json.loads(response.read())\n",
    "\n",
    "                    image_filename = data.get('claims').get('P18')[0].get(\"mainsnak\").get(\"datavalue\").get(\"value\")\n",
    "                    image_filename = image_filename.replace(\" \", \"_\")\n",
    "                \n",
    "                    if image_filename != \"\" and \".tif\" not in image_filename:\n",
    "\n",
    "                        hash = hashlib.md5(image_filename.encode('utf-8')).hexdigest()\n",
    "                        a = hash[0]\n",
    "                        b = hash[1]\n",
    "                        image_url = \"https://upload.wikimedia.org/wikipedia/commons/\" + a + \"/\" + a + b + \"/\" + image_filename\n",
    "\n",
    "                        with open(os.path.join(\"./data/wikidata\", person_id.split(\"/\").pop() + \".json\"), 'w') as json_file:\n",
    "                            json_file.write(json.dumps({\"image_filename\" : image_filename, \"image_url\" : image_url},indent=2))\n",
    "                except:\n",
    "                    continue\n",
    "\n",
    "\n",
    "\n"
   ]
  }
 ],
 "metadata": {
  "kernelspec": {
   "display_name": "Python 3.8.8 ('base')",
   "language": "python",
   "name": "python3"
  },
  "language_info": {
   "codemirror_mode": {
    "name": "ipython",
    "version": 3
   },
   "file_extension": ".py",
   "mimetype": "text/x-python",
   "name": "python",
   "nbconvert_exporter": "python",
   "pygments_lexer": "ipython3",
   "version": "3.8.8"
  },
  "orig_nbformat": 4,
  "vscode": {
   "interpreter": {
    "hash": "40d3a090f54c6569ab1632332b64b2c03c39dcf918b08424e98f38b5ae0af88f"
   }
  }
 },
 "nbformat": 4,
 "nbformat_minor": 2
}
