{
 "cells": [
  {
   "cell_type": "raw",
   "metadata": {},
   "source": [
    "---\n",
    "title: 🚀 Notebook Variables\n",
    "description: Run this notebook first to instantiate variables\n",
    "---"
   ]
  },
  {
   "cell_type": "markdown",
   "metadata": {},
   "source": [
    "# Linked Art data file location"
   ]
  },
  {
   "cell_type": "code",
   "execution_count": 6,
   "metadata": {},
   "outputs": [
    {
     "name": "stdout",
     "output_type": "stream",
     "text": [
      "Stored 'linked_data_dir' (str)\n",
      "Stored 'linked_data_filepath_activity' (str)\n",
      "Stored 'linked_data_filepath_person' (str)\n",
      "Stored 'linked_data_filepath_group' (str)\n"
     ]
    }
   ],
   "source": [
    "linked_data_dir = \"./data/linked_data\"\n",
    "\n",
    "# location of Linked Art files containing group descriptions\n",
    "linked_data_filepath_person = linked_data_dir + \"/person\"\n",
    "linked_data_filepath_activity = linked_data_dir + \"/activity\"\n",
    "linked_data_filepath_group = linked_data_dir + \"/group\"\n",
    "\n",
    "%store linked_data_dir\n",
    "%store linked_data_filepath_activity\n",
    "%store linked_data_filepath_person\n",
    "%store linked_data_filepath_group"
   ]
  },
  {
   "cell_type": "markdown",
   "metadata": {},
   "source": [
    "# Output summary files"
   ]
  },
  {
   "cell_type": "code",
   "execution_count": 7,
   "metadata": {},
   "outputs": [
    {
     "name": "stdout",
     "output_type": "stream",
     "text": [
      "Stored 'output_person_dir' (str)\n",
      "Stored 'output_activity_dir' (str)\n",
      "Stored 'output_group_dir' (str)\n"
     ]
    }
   ],
   "source": [
    "# output file\n",
    "output_dir = \"./data/summary\"\n",
    "\n",
    "output_person_dir = output_dir + \"/person\"\n",
    "output_activity_dir = output_dir + \"/activity\"\n",
    "output_group_dir = output_dir + \"/group\"\n",
    "\n",
    "%store output_person_dir\n",
    "%store output_activity_dir\n",
    "%store output_group_dir"
   ]
  },
  {
   "cell_type": "markdown",
   "metadata": {},
   "source": [
    "# Datavis output directory"
   ]
  },
  {
   "cell_type": "code",
   "execution_count": 8,
   "metadata": {},
   "outputs": [
    {
     "name": "stdout",
     "output_type": "stream",
     "text": [
      "Stored 'datavis_dir' (str)\n",
      "Stored 'datavis_venue_exhibitions' (str)\n",
      "Stored 'datavis_network' (str)\n",
      "Stored 'org_artist_links_nonmoma' (str)\n",
      "Stored 'org_artist_links_10thstreet' (str)\n"
     ]
    }
   ],
   "source": [
    "datavis_dir = \"data/datavis\"\n",
    "\n",
    "datavis_venue_exhibitions = datavis_dir + \"/venue/exhibitions/\"\n",
    "\n",
    "datavis_network = \"network\"\n",
    "\n",
    "org_artist_links_nonmoma = \"org_artist_links_nonmoma.json\"\n",
    "org_artist_links_10thstreet = \"org_artist_links_10thstreet.json\"\n",
    "\n",
    "%store datavis_dir\n",
    "\n",
    "%store datavis_venue_exhibitions\n",
    "\n",
    "%store datavis_network\n",
    "\n",
    "%store org_artist_links_nonmoma\n",
    "%store org_artist_links_10thstreet"
   ]
  },
  {
   "cell_type": "markdown",
   "metadata": {},
   "source": [
    "# Output files"
   ]
  },
  {
   "cell_type": "code",
   "execution_count": 9,
   "metadata": {},
   "outputs": [
    {
     "name": "stdout",
     "output_type": "stream",
     "text": [
      "Stored 'activity_all_file' (str)\n",
      "Stored 'persons_all_file' (str)\n",
      "Stored 'events_nonmoma' (str)\n",
      "Stored 'json_suffix' (str)\n"
     ]
    }
   ],
   "source": [
    "persons_all_file = \"persons_all.json\"\n",
    "activity_all_file = \"events_all.json\"\n",
    "\n",
    "events_nonmoma = \"events_nonmoma.json\"\n",
    "\n",
    "json_suffix = \".json\"\n",
    "\n",
    "%store activity_all_file\n",
    "%store persons_all_file\n",
    "%store events_nonmoma\n",
    "%store json_suffix"
   ]
  },
  {
   "cell_type": "markdown",
   "metadata": {},
   "source": [
    "# Import / install Python libraries"
   ]
  },
  {
   "cell_type": "code",
   "execution_count": 10,
   "metadata": {},
   "outputs": [],
   "source": [
    "try:\n",
    "    import json\n",
    "except:\n",
    "    %pip install json\n",
    "    import json\n",
    "\n",
    "try:\n",
    "    import pandas as pd\n",
    "except:\n",
    "    %pip install pandas\n",
    "    import pandas as pd\n",
    "\n",
    "import os\n",
    "\n",
    "try:\n",
    "    from sortedcontainers import SortedDict\n",
    "except:\n",
    "    %pip install sortedcontainers\n",
    "    from sortedcontainers import SortedDict\n",
    "\n",
    "\n",
    "try:\n",
    "    import plotly.express as px\n",
    "except:\n",
    "    %pip install plotly.express\n",
    "\n",
    "try:\n",
    "    import matplotlib.pyplot as plt\n",
    "except:\n",
    "    %pip install matplotlib\n",
    "    \n",
    "\n"
   ]
  }
 ],
 "metadata": {
  "kernelspec": {
   "display_name": "Python 3",
   "language": "python",
   "name": "python3"
  },
  "language_info": {
   "codemirror_mode": {
    "name": "ipython",
    "version": 3
   },
   "file_extension": ".py",
   "mimetype": "text/x-python",
   "name": "python",
   "nbconvert_exporter": "python",
   "pygments_lexer": "ipython3",
   "version": "3.9.12"
  },
  "vscode": {
   "interpreter": {
    "hash": "aee8b7b246df8f9039afb4144a1f6fd8d2ca17a180786b69acc140d282b71a49"
   }
  }
 },
 "nbformat": 4,
 "nbformat_minor": 2
}
