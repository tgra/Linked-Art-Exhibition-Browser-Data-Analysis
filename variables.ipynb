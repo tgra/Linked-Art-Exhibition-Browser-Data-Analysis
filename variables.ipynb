{
 "cells": [
  {
   "cell_type": "raw",
   "metadata": {},
   "source": [
    "---\n",
    "title: Notebook Variables\n",
    "description: Run this notebook first to instantiate variables\n",
    "---"
   ]
  },
  {
   "cell_type": "markdown",
   "metadata": {},
   "source": [
    "# Notebook - variables\n",
    "This notebook instantiate variables that are used in other notebooks in this application, using the %store command. \n",
    "\n",
    "You will need to run this notebook once before running the other notebooks.\n",
    "\n",
    "Sections\n",
    "- Linked Art data file location"
   ]
  },
  {
   "cell_type": "markdown",
   "metadata": {},
   "source": [
    "# Linked Art data file location\n",
    "\n",
    "The following options will define the variables that identify where the Linked Art files file location, relative to this notebook's location.\n",
    "\n",
    "It assumes the files with be in the following folder structure:\n",
    "\n",
    "`linked_data_dir`\n",
    "- `./person`\n",
    "- `./activity`\n",
    "- `./group`\n",
    "\n",
    "\n",
    "where \n",
    "- `person` directory contains person Linked Art files\n",
    "- `activity` directory contains exhibition Linked Art files\n",
    "- `group` directory contains the group Linked Art files\n",
    "\n"
   ]
  },
  {
   "cell_type": "code",
   "execution_count": 1,
   "metadata": {},
   "outputs": [
    {
     "name": "stdout",
     "output_type": "stream",
     "text": [
      "Stored 'linked_data_dir' (str)\n",
      "Stored 'linked_data_filepath_activity' (str)\n",
      "Stored 'linked_data_filepath_person' (str)\n",
      "Stored 'linked_data_filepath_group' (str)\n"
     ]
    }
   ],
   "source": [
    "# location of Linked Art files relative to this notebook's directory\n",
    "linked_data_dir = \"./data/linked_data\"\n",
    "\n",
    "linked_data_filepath_person     = linked_data_dir + \"/person\" #  directory contains person Linked Art files\n",
    "linked_data_filepath_activity   = linked_data_dir + \"/activity\" # directory contains exhibition Linked Art files\n",
    "linked_data_filepath_group      = linked_data_dir + \"/group\" # directory contains the group Linked Art files\n",
    "\n",
    "\n",
    "# store the variables for use in other notebooks\n",
    "%store linked_data_dir\n",
    "%store linked_data_filepath_activity\n",
    "%store linked_data_filepath_person\n",
    "%store linked_data_filepath_group"
   ]
  },
  {
   "cell_type": "markdown",
   "metadata": {},
   "source": [
    "# Summary data file location\n",
    "\n",
    "The following variables define the location of summary data files that can be created with the summary* notebooks\n",
    "\n",
    "It assumes the files with be in the following folder structure:\n",
    "\n",
    "- `summary_data_dir`\n",
    "  - `./person`\n",
    "  - `./activity`\n",
    "  - `./group`"
   ]
  },
  {
   "cell_type": "code",
   "execution_count": 6,
   "metadata": {},
   "outputs": [
    {
     "name": "stdout",
     "output_type": "stream",
     "text": [
      "Stored 'summary_data_dir_person' (str)\n",
      "Stored 'summary_data_dir_activity' (str)\n",
      "Stored 'summary_data_dir_group' (str)\n",
      "Stored 'activity_all_file' (str)\n",
      "Stored 'persons_all_file' (str)\n",
      "Stored 'events_nonmoma' (str)\n",
      "Stored 'json_suffix' (str)\n"
     ]
    }
   ],
   "source": [
    "# summary data file directory\n",
    "summary_data_dir = \"./data/summary\"\n",
    "\n",
    "summary_data_dir_person = summary_data_dir + \"/person\"\n",
    "summary_data_dir_activity = summary_data_dir + \"/activity\"\n",
    "summary_data_dir_group = summary_data_dir + \"/group\"\n",
    "\n",
    "\n",
    "# data files\n",
    "persons_all_file = \"persons_all.json\"\n",
    "activity_all_file = \"events_all.json\"\n",
    "events_nonmoma = \"events_nonmoma.json\"\n",
    "json_suffix = \".json\"\n",
    "\n",
    "\n",
    "%store summary_data_dir_person\n",
    "%store summary_data_dir_activity\n",
    "%store summary_data_dir_group\n",
    "\n",
    "%store activity_all_file\n",
    "%store persons_all_file\n",
    "%store events_nonmoma\n",
    "%store json_suffix\n",
    "\n",
    "\n",
    "\n",
    "\n"
   ]
  },
  {
   "cell_type": "markdown",
   "metadata": {},
   "source": [
    "# Data visualisation file location\n",
    "\n",
    "Location of files created using the data visualisation notebooks. It assumes the following folder structure:\n",
    "\n",
    "\n",
    "- data\n",
    "  - datavis\n",
    "    - venue\n",
    "      - exhibitions\n"
   ]
  },
  {
   "cell_type": "code",
   "execution_count": 3,
   "metadata": {},
   "outputs": [
    {
     "name": "stdout",
     "output_type": "stream",
     "text": [
      "Stored 'datavis_dir' (str)\n"
     ]
    }
   ],
   "source": [
    "# data visualisation directory\n",
    "datavis_dir = \"./data/datavis\"\n",
    "%store datavis_dir"
   ]
  },
  {
   "cell_type": "markdown",
   "metadata": {},
   "source": [
    "# Import / install Python libraries"
   ]
  },
  {
   "cell_type": "code",
   "execution_count": 4,
   "metadata": {},
   "outputs": [],
   "source": [
    "try:\n",
    "    import json\n",
    "except:\n",
    "    %pip install json\n",
    "    import json\n",
    "\n",
    "try:\n",
    "    import pandas as pd\n",
    "except:\n",
    "    %pip install pandas\n",
    "    import pandas as pd\n",
    "\n",
    "import os\n",
    "\n",
    "try:\n",
    "    from sortedcontainers import SortedDict\n",
    "except:\n",
    "    %pip install sortedcontainers\n",
    "    from sortedcontainers import SortedDict\n",
    "\n",
    "\n",
    "try:\n",
    "    import plotly.express as px\n",
    "except:\n",
    "    %pip install plotly.express\n",
    "    import plotly.express as px\n",
    "\n",
    "try:\n",
    "    import matplotlib.pyplot as plt\n",
    "except:\n",
    "    %pip install matplotlib\n",
    "    import matplotlib.pyplot as plt\n",
    "    \n",
    "\n"
   ]
  },
  {
   "cell_type": "code",
   "execution_count": 5,
   "metadata": {},
   "outputs": [
    {
     "data": {
      "text/plain": [
       "'\\n\\ndatavis_venue_exhibitions = datavis_dir + \"/venue/exhibitions/\"\\n%store datavis_venue_exhibitions\\n\\n\\n\\ndatavis_network = \"network\"\\n%store datavis_network\\n\\n\\n# files\\norg_artist_links_nonmoma = \"org_artist_links_nonmoma.json\"\\norg_artist_links_10thstreet = \"org_artist_links_10thstreet.json\"\\n%store org_artist_links_nonmoma\\n%store org_artist_links_10thstreet\\n\\n'"
      ]
     },
     "execution_count": 5,
     "metadata": {},
     "output_type": "execute_result"
    }
   ],
   "source": [
    "\"\"\"\n",
    "\n",
    "datavis_venue_exhibitions = datavis_dir + \"/venue/exhibitions/\"\n",
    "%store datavis_venue_exhibitions\n",
    "\n",
    "\n",
    "\n",
    "datavis_network = \"network\"\n",
    "%store datavis_network\n",
    "\n",
    "\n",
    "# files\n",
    "org_artist_links_nonmoma = \"org_artist_links_nonmoma.json\"\n",
    "org_artist_links_10thstreet = \"org_artist_links_10thstreet.json\"\n",
    "%store org_artist_links_nonmoma\n",
    "%store org_artist_links_10thstreet\n",
    "\n",
    "\"\"\""
   ]
  }
 ],
 "metadata": {
  "kernelspec": {
   "display_name": "Python 3",
   "language": "python",
   "name": "python3"
  },
  "language_info": {
   "codemirror_mode": {
    "name": "ipython",
    "version": 3
   },
   "file_extension": ".py",
   "mimetype": "text/x-python",
   "name": "python",
   "nbconvert_exporter": "python",
   "pygments_lexer": "ipython3",
   "version": "3.9.12"
  },
  "vscode": {
   "interpreter": {
    "hash": "aee8b7b246df8f9039afb4144a1f6fd8d2ca17a180786b69acc140d282b71a49"
   }
  }
 },
 "nbformat": 4,
 "nbformat_minor": 2
}
